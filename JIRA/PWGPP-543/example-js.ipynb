{
 "cells": [
  {
   "cell_type": "code",
   "execution_count": null,
   "metadata": {},
   "outputs": [],
   "source": [
    "from bokeh.io import output_notebook, show\n",
    "from bokeh.plotting import figure\n",
    "from bokeh.layouts import column, row\n",
    "from bokeh.models import CustomJS, ColumnDataSource, Slider\n",
    "output_notebook()\n",
    "\n",
    "x = [x*0.05 for x in range(0, 201)]\n",
    "y = [a**3-a**2-10*a for a in x]\n",
    "\n",
    "s1 = ColumnDataSource(data=dict(x=x, y=y))\n",
    "s2 = ColumnDataSource(data=dict(x=[], y=[]))\n",
    "\n",
    "p = figure(plot_width=400, plot_height=400)\n",
    "p.line('x', 'y', source=s1, line_width=3, line_alpha=0.6)\n",
    "\n",
    "p2 = figure(plot_width=400, plot_height=400)\n",
    "p2.line('x', 'y', source=s2, line_width=3, line_alpha=0.6)\n",
    "\n",
    "slider = Slider(start=0.1, end=10, value=5, step=.1, title=\"power\")\n",
    "\n",
    "update_curve = CustomJS(args=dict(s1=s1, s2=s2, slider=slider), code=\"\"\"\n",
    "    var d1 = s1.data;\n",
    "    var d2 = s2.data;\n",
    "    var f = slider.value;\n",
    "    d2['x'] = [];\n",
    "    d2['y'] = [];\n",
    "    \n",
    "    for (i = 0; i < d1['x'].length; i++) {\n",
    "        if (x[i]<f){\n",
    "            d2['x'].push(d1['x'][i]);\n",
    "            d2['y'].push(d1['y'][i]);\n",
    "        }\n",
    "    }\n",
    "    s2.change.emit();\n",
    "\"\"\")\n",
    "slider.js_on_change('value', update_curve)\n",
    "\n",
    "show(column(slider,row(p,p2)))"
   ]
  }
 ],
 "metadata": {
  "kernelspec": {
   "display_name": "Python 3",
   "language": "python",
   "name": "python3"
  },
  "language_info": {
   "codemirror_mode": {
    "name": "ipython",
    "version": 3
   },
   "file_extension": ".py",
   "mimetype": "text/x-python",
   "name": "python",
   "nbconvert_exporter": "python",
   "pygments_lexer": "ipython3",
   "version": "3.6.8"
  }
 },
 "nbformat": 4,
 "nbformat_minor": 2
}
