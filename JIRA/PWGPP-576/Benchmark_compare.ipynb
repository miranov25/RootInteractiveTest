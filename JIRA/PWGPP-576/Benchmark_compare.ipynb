{
 "cells": [
  {
   "cell_type": "markdown",
   "metadata": {},
   "source": [
    "# Benchmark comparison"
   ]
  },
  {
   "cell_type": "code",
   "execution_count": null,
   "metadata": {},
   "outputs": [],
   "source": [
    "import numpy as np\n",
    "import pandas as pd\n",
    "import data\n",
    "from FitterBFGS import bfgsfitter\n",
    "from scipy.optimize import curve_fit\n",
    "from iminuit import Minuit"
   ]
  },
  {
   "cell_type": "code",
   "execution_count": null,
   "metadata": {},
   "outputs": [],
   "source": [
    "from time import thread_time"
   ]
  },
  {
   "cell_type": "markdown",
   "metadata": {},
   "source": [
    "* create data for three different functions"
   ]
  },
  {
   "cell_type": "code",
   "execution_count": null,
   "metadata": {},
   "outputs": [],
   "source": [
    "data_sin = data.testdata()\n",
    "data_sin.setfuncsin()\n",
    "data_exp = data.testdata()\n",
    "data_exp.setfuncexp()\n",
    "data_lin = data.testdata()\n",
    "data_lin.setfunclin()"
   ]
  },
  {
   "cell_type": "markdown",
   "metadata": {},
   "source": [
    "# Curve fit"
   ]
  },
  {
   "cell_type": "markdown",
   "metadata": {},
   "source": [
    "* linear function"
   ]
  },
  {
   "cell_type": "code",
   "execution_count": null,
   "metadata": {},
   "outputs": [],
   "source": [
    "comp_time_lin = []\n",
    "\n",
    "lin_fitter = bfgsfitter(data.testfunc_lin)\n",
    "data_lin.setxy(100)\n",
    "\n",
    "# bfgsfitter\n",
    "t1_start = thread_time()\n",
    "p,q = lin_fitter.curve_fit(data_lin.x,data_lin.y)\n",
    "t1_stop =  thread_time() \n",
    "comp_time_lin.append(t1_stop-t1_start)\n",
    "print(p)\n",
    "print(q)\n",
    "\n",
    "# second fit after initializiation\n",
    "t1_start = thread_time()\n",
    "p,q = lin_fitter.curve_fit(data_lin.x,data_lin.y)\n",
    "t1_stop = thread_time()\n",
    "comp_time_lin.append(t1_stop-t1_start)\n",
    "\n",
    "# scipy\n",
    "t1_start = thread_time()\n",
    "p,q = curve_fit(data.testfunc_lin_np,data_lin.x,data_lin.y)\n",
    "t1_stop = thread_time()\n",
    "comp_time_lin.append(t1_stop-t1_start)\n",
    "print(p)\n",
    "print(q)\n",
    "# minuit\n",
    "t1_start = thread_time()\n",
    "def least_squares_lin(a, b):\n",
    "    return sum((data_lin.y - data.testfunc_lin_np(data_lin.x, a, b)) ** 2)\n",
    "m = Minuit(least_squares_lin)\n",
    "m.migrad()\n",
    "t1_stop = thread_time()\n",
    "comp_time_lin.append(t1_stop-t1_start)\n"
   ]
  },
  {
   "cell_type": "markdown",
   "metadata": {},
   "source": [
    "* sinus function"
   ]
  },
  {
   "cell_type": "code",
   "execution_count": null,
   "metadata": {},
   "outputs": [],
   "source": [
    "comp_time_sin = []\n",
    "\n",
    "sin_fitter = bfgsfitter(data.testfunc_sin)\n",
    "data_sin.setxy(100)\n",
    "\n",
    "# bfgsfitter\n",
    "t1_start = thread_time()\n",
    "p,q = sin_fitter.curve_fit(data_sin.x,data_sin.y)\n",
    "t1_stop = thread_time() \n",
    "comp_time_sin.append(t1_stop-t1_start)\n",
    "print(p)\n",
    "print(q)\n",
    "\n",
    "# second fit after initializiation\n",
    "t1_start = thread_time()  \n",
    "p,q = sin_fitter.curve_fit(data_sin.x,data_sin.y)\n",
    "t1_stop = thread_time() \n",
    "comp_time_sin.append(t1_stop-t1_start)\n",
    "\n",
    "# scipy\n",
    "t1_start = thread_time()  \n",
    "p,q = curve_fit(data.testfunc_sin_np,data_sin.x,data_sin.y)\n",
    "t1_stop = thread_time() \n",
    "comp_time_sin.append(t1_stop-t1_start)\n",
    "print(p)\n",
    "print(q)\n",
    "\n",
    "# minuit\n",
    "t1_start = thread_time()  \n",
    "def least_squares_sin(a, b, c):\n",
    "    return sum((data_sin.y - data.testfunc_sin_np(data_sin.x, a, b, c)) ** 2)\n",
    "m = Minuit(least_squares_sin)\n",
    "m.migrad()\n",
    "t1_stop = thread_time() \n",
    "comp_time_sin.append(t1_stop-t1_start)"
   ]
  },
  {
   "cell_type": "markdown",
   "metadata": {},
   "source": [
    "* exponential function"
   ]
  },
  {
   "cell_type": "code",
   "execution_count": null,
   "metadata": {},
   "outputs": [],
   "source": [
    "comp_time_exp = []\n",
    "\n",
    "exp_fitter = bfgsfitter(data.testfunc_exp)\n",
    "data_exp.setxy(100)\n",
    "# bfgsfitter\n",
    "t1_start = thread_time() \n",
    "p,q = exp_fitter.curve_fit(data_exp.x,data_exp.y)\n",
    "t1_stop = thread_time() \n",
    "comp_time_exp.append(t1_stop-t1_start)\n",
    "print(p)\n",
    "print(q)\n",
    "\n",
    "# second fit after initializiation\n",
    "t1_start = thread_time() \n",
    "p,q = exp_fitter.curve_fit(data_exp.x,data_exp.y)\n",
    "t1_stop = thread_time() \n",
    "comp_time_exp.append(t1_stop-t1_start)\n",
    "\n",
    "# scipy\n",
    "t1_start = thread_time() \n",
    "p,q = curve_fit(data.testfunc_exp_np,data_exp.x,data_exp.y)\n",
    "t1_stop = thread_time() \n",
    "comp_time_exp.append(t1_stop-t1_start)\n",
    "print(p)\n",
    "print(q)\n",
    "# minuit\n",
    "t1_start = thread_time() \n",
    "def least_squares_exp(a, b):\n",
    "    return sum((data_exp.y - data.testfunc_exp_np(data_exp.x, a, b)) ** 2)\n",
    "m = Minuit(least_squares_exp)\n",
    "m.migrad()\n",
    "t1_stop = process_time() \n",
    "comp_time_exp.append(t1_stop-t1_start)"
   ]
  },
  {
   "cell_type": "code",
   "execution_count": null,
   "metadata": {},
   "outputs": [],
   "source": [
    "#time - tf, tf after initialization, scipy, minuit\n",
    "print(comp_time_lin)\n",
    "print(comp_time_sin)\n",
    "print(comp_time_exp)"
   ]
  }
 ],
 "metadata": {
  "kernelspec": {
   "display_name": "Python 3",
   "language": "python",
   "name": "python3"
  },
  "language_info": {
   "codemirror_mode": {
    "name": "ipython",
    "version": 3
   },
   "file_extension": ".py",
   "mimetype": "text/x-python",
   "name": "python",
   "nbconvert_exporter": "python",
   "pygments_lexer": "ipython3",
   "version": "3.6.9"
  }
 },
 "nbformat": 4,
 "nbformat_minor": 4
}
