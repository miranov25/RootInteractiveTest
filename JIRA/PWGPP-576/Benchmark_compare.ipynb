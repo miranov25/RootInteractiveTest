{
 "cells": [
  {
   "cell_type": "markdown",
   "metadata": {},
   "source": [
    "# Benchmark comparison"
   ]
  },
  {
   "cell_type": "code",
   "execution_count": null,
   "metadata": {},
   "outputs": [],
   "source": [
    "import numpy as np\n",
    "import pandas as pd\n",
    "import data\n",
    "from FitterBFGS import bfgsfitter\n",
    "from scipy.optimize import curve_fit\n",
    "from iminuit import Minuit"
   ]
  },
  {
   "cell_type": "code",
   "execution_count": null,
   "metadata": {},
   "outputs": [],
   "source": [
    "from time import thread_time\n",
    "from time import process_time"
   ]
  },
  {
   "cell_type": "code",
   "execution_count": null,
   "metadata": {},
   "outputs": [],
   "source": [
    "import matplotlib.pyplot as plt"
   ]
  },
  {
   "cell_type": "markdown",
   "metadata": {},
   "source": [
    "* create data for three different functions"
   ]
  },
  {
   "cell_type": "code",
   "execution_count": null,
   "metadata": {},
   "outputs": [],
   "source": [
    "data_sin = data.testdata()\n",
    "data_sin.setfuncsin()\n",
    "data_exp = data.testdata()\n",
    "data_exp.setfuncexp()\n",
    "data_lin = data.testdata()\n",
    "data_lin.setfunclin()"
   ]
  },
  {
   "cell_type": "markdown",
   "metadata": {},
   "source": [
    "# Curve fit"
   ]
  },
  {
   "cell_type": "markdown",
   "metadata": {},
   "source": [
    "* linear function"
   ]
  },
  {
   "cell_type": "code",
   "execution_count": null,
   "metadata": {},
   "outputs": [],
   "source": [
    "%%capture\n",
    "# number of points to fit:\n",
    "pointlist = [10,100,1000,10000,100000,1000000]\n",
    "nfits = 100\n",
    "linlist = []\n",
    "lin_parameter_list = []\n",
    "lin_parameter_list_org = []\n",
    "lin_parameter_list_sigma = []\n",
    "\n",
    "for idx,el in enumerate(pointlist):\n",
    "\n",
    "    comp_time_lin = []\n",
    "\n",
    "    lin_fitter = bfgsfitter(data.testfunc_lin)\n",
    "    data_lin.setxy(el)\n",
    "    lin_parameter_list_org.append(data_lin.params)\n",
    "\n",
    "    # bfgsfitter\n",
    "    t1_start = thread_time()\n",
    "    for i in range(nfits):\n",
    "        p,q = lin_fitter.curve_fit(data_lin.x,data_lin.y)\n",
    "        if(i == 0): \n",
    "            lin_parameter_list.append(p)\n",
    "            lin_parameter_list_sigma.append(q)\n",
    "    t1_stop =  thread_time() \n",
    "    comp_time_lin.append(t1_stop-t1_start)\n",
    "    print(p)\n",
    "    print(q)\n",
    "\n",
    "    # second fit after initializiation\n",
    "    t1_start = thread_time()\n",
    "    for i in range(nfits):\n",
    "        p,q = lin_fitter.curve_fit(data_lin.x,data_lin.y)\n",
    "    t1_stop = thread_time()\n",
    "    comp_time_lin.append(t1_stop-t1_start)\n",
    "\n",
    "    # scipy\n",
    "    t1_start = thread_time()\n",
    "    for i in range(nfits):\n",
    "        p,q = curve_fit(data.testfunc_lin_np,data_lin.x,data_lin.y)\n",
    "    t1_stop = thread_time()\n",
    "    comp_time_lin.append(t1_stop-t1_start)\n",
    "    print(p)\n",
    "    print(q)\n",
    "\n",
    "    if(idx < 4):\n",
    "        # minuit\n",
    "        t1_start = thread_time()\n",
    "        for i in range(nfits):\n",
    "            def least_squares_lin(a, b):\n",
    "                return sum((data_lin.y - data.testfunc_lin_np(data_lin.x, a, b)) ** 2)\n",
    "            m = Minuit(least_squares_lin)\n",
    "            m.migrad()\n",
    "        t1_stop = thread_time()\n",
    "        comp_time_lin.append(t1_stop-t1_start)\n",
    "    else:\n",
    "        comp_time_lin.append(0)\n",
    "\n",
    "    linlist.append(comp_time_lin)\n",
    " "
   ]
  },
  {
   "cell_type": "markdown",
   "metadata": {},
   "source": [
    "* sinus function"
   ]
  },
  {
   "cell_type": "code",
   "execution_count": null,
   "metadata": {},
   "outputs": [],
   "source": [
    "%%capture\n",
    "\n",
    "sinlist = []\n",
    "\n",
    "for idx,el in enumerate(pointlist):\n",
    "    comp_time_sin = []\n",
    "\n",
    "    sin_fitter = bfgsfitter(data.testfunc_sin)\n",
    "    data_sin.setxy(el)\n",
    "\n",
    "    # bfgsfitter\n",
    "    t1_start = thread_time()\n",
    "    \n",
    "    for i in range(nfits):\n",
    "        p,q = sin_fitter.curve_fit(data_sin.x,data_sin.y)\n",
    "        \n",
    "    t1_stop = thread_time() \n",
    "    comp_time_sin.append(t1_stop-t1_start)\n",
    "    #print(p)\n",
    "    #print(q)\n",
    "\n",
    "    # second fit after initializiation\n",
    "    t1_start = thread_time()  \n",
    "    for i in range(nfits):\n",
    "        p,q = sin_fitter.curve_fit(data_sin.x,data_sin.y)\n",
    "        \n",
    "    t1_stop = thread_time() \n",
    "    comp_time_sin.append(t1_stop-t1_start)\n",
    "\n",
    "    # scipy\n",
    "    t1_start = thread_time() \n",
    "    \n",
    "    for i in range(nfits): \n",
    "        p,q = curve_fit(data.testfunc_sin_np,data_sin.x,data_sin.y)\n",
    "        \n",
    "    t1_stop = thread_time() \n",
    "    comp_time_sin.append(t1_stop-t1_start)\n",
    "    #print(p)\n",
    "    #print(q)\n",
    "\n",
    "    # minuit\n",
    "    if(idx < 4):\n",
    "        t1_start = thread_time()  \n",
    "\n",
    "        for i in range(nfits):\n",
    "            def least_squares_sin(a, b, c):\n",
    "                return sum((data_sin.y - data.testfunc_sin_np(data_sin.x, a, b, c)) ** 2)\n",
    "            m = Minuit(least_squares_sin)\n",
    "            m.migrad()\n",
    "\n",
    "        t1_stop = thread_time() \n",
    "        comp_time_sin.append(t1_stop-t1_start)\n",
    "    else:\n",
    "        comp_time_sin.append(0)\n",
    "\n",
    "    \n",
    "    sinlist.append(comp_time_sin)"
   ]
  },
  {
   "cell_type": "markdown",
   "metadata": {},
   "source": [
    "* exponential function"
   ]
  },
  {
   "cell_type": "code",
   "execution_count": null,
   "metadata": {},
   "outputs": [],
   "source": [
    "%%capture\n",
    "\n",
    "explist = []\n",
    "\n",
    "for idx,el in enumerate(pointlist):\n",
    "    comp_time_exp = []\n",
    "    \n",
    "    exp_fitter = bfgsfitter(data.testfunc_exp)\n",
    "    data_exp.setxy(el)\n",
    "    # bfgsfitter\n",
    "    t1_start = thread_time() \n",
    "    \n",
    "    for i in range(nfits):\n",
    "        p,q = exp_fitter.curve_fit(data_exp.x,data_exp.y)\n",
    "        \n",
    "    t1_stop = thread_time() \n",
    "    comp_time_exp.append(t1_stop-t1_start)\n",
    "    #print(p)\n",
    "    #print(q)\n",
    "\n",
    "    # second fit after initializiation\n",
    "    t1_start = thread_time() \n",
    "    \n",
    "    for i in range(nfits):\n",
    "        p,q = exp_fitter.curve_fit(data_exp.x,data_exp.y)\n",
    "        \n",
    "    t1_stop = thread_time() \n",
    "    comp_time_exp.append(t1_stop-t1_start)\n",
    "\n",
    "    # scipy\n",
    "    t1_start = thread_time() \n",
    "    \n",
    "    for i in range(nfits):\n",
    "        p,q = curve_fit(data.testfunc_exp_np,data_exp.x,data_exp.y)\n",
    "        \n",
    "    t1_stop = thread_time() \n",
    "    comp_time_exp.append(t1_stop-t1_start)\n",
    "    #print(p)\n",
    "    #print(q)\n",
    "    # minuit\n",
    "    if(idx < 4):\n",
    "        t1_start = thread_time() \n",
    "\n",
    "        for i in range(nfits):\n",
    "            def least_squares_exp(a, b):\n",
    "                return sum((data_exp.y - data.testfunc_exp_np(data_exp.x, a, b)) ** 2)\n",
    "            m = Minuit(least_squares_exp)\n",
    "            m.migrad()\n",
    "\n",
    "        t1_stop = thread_time() \n",
    "        comp_time_exp.append(t1_stop-t1_start)\n",
    "    else:\n",
    "        comp_time_exp.append(0)\n",
    "\n",
    "    \n",
    "    explist.append(comp_time_exp)"
   ]
  },
  {
   "cell_type": "markdown",
   "metadata": {},
   "source": [
    "# plots for n_points comparison:"
   ]
  },
  {
   "cell_type": "code",
   "execution_count": null,
   "metadata": {},
   "outputs": [],
   "source": [
    "plotlists = [linlist, sinlist, explist]\n",
    "funcnames = [\"linear\", \"sinus\", \"exponential\"]\n",
    "for idx,plotlist in enumerate(plotlists):\n",
    "    print(funcnames[idx])\n",
    "    ylist = np.array(plotlist)\n",
    "    plt.loglog(pointlist,ylist[:,1])\n",
    "    plt.plot(pointlist,ylist[:,2])\n",
    "    plt.plot(pointlist[:4],ylist[:4,3])\n",
    "    plt.legend([\"tensorflow\",\"scipy\",\"iminuit\"])\n",
    "    plt.xlabel(\"number of points\")\n",
    "    plt.ylabel(\"time [s]\")\n",
    "    plt.savefig(funcnames[idx]+\".pdf\")\n",
    "    plt.show()"
   ]
  },
  {
   "cell_type": "markdown",
   "metadata": {},
   "source": [
    "# fit arrays "
   ]
  },
  {
   "cell_type": "markdown",
   "metadata": {},
   "source": [
    "* linear function"
   ]
  },
  {
   "cell_type": "code",
   "execution_count": null,
   "metadata": {},
   "outputs": [],
   "source": [
    "comp_time_lin = []\n",
    "array_fitter = bfgsfitter(data.testfunc_lin)\n",
    "\n",
    "\n",
    "test_n = [10,100,1000,10000]\n",
    "plotlist_array = []\n",
    "plotlist_array_norm = []\n",
    "\n",
    "#initial fit\n",
    "xa, ya = data.return_array(1, 20, \"lin\")\n",
    "array_fitter.curve_fit_array(xa, ya)\n",
    "\n",
    "for el in test_n:\n",
    "    \n",
    "    xa, ya = data.return_array(el, 20, \"lin\")\n",
    "    t1_start = process_time()\n",
    "    array_fitter.curve_fit_array(xa, ya)\n",
    "    t1_stop =  process_time()\n",
    "    comp_time_lin.append(t1_stop-t1_start)\n",
    "    print(t1_stop-t1_start,(t1_stop-t1_start)/el)\n",
    "    plotlist_array.append(t1_stop-t1_start)\n",
    "    plotlist_array_norm.append((t1_stop-t1_start)/el)"
   ]
  },
  {
   "cell_type": "code",
   "execution_count": null,
   "metadata": {},
   "outputs": [],
   "source": [
    "plt.loglog(test_n, plotlist_array)\n",
    "plt.xlabel(\"number of fits\")\n",
    "plt.ylabel(\"time [s]\")\n",
    "plt.savefig(\"numfits.pdf\")\n",
    "plt.show()\n",
    "plt.loglog(test_n, plotlist_array_norm)\n",
    "plt.xlabel(\"number of fits\")\n",
    "plt.ylabel(\"time [s]\")\n",
    "plt.savefig(\"numfits_norm.pdf\")\n",
    "plt.show()"
   ]
  },
  {
   "cell_type": "code",
   "execution_count": null,
   "metadata": {},
   "outputs": [],
   "source": []
  }
 ],
 "metadata": {
  "kernelspec": {
   "display_name": "Python 3",
   "language": "python",
   "name": "python3"
  },
  "language_info": {
   "codemirror_mode": {
    "name": "ipython",
    "version": 3
   },
   "file_extension": ".py",
   "mimetype": "text/x-python",
   "name": "python",
   "nbconvert_exporter": "python",
   "pygments_lexer": "ipython3",
   "version": "3.6.9"
  }
 },
 "nbformat": 4,
 "nbformat_minor": 4
}
