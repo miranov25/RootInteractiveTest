{
 "cells": [
  {
   "cell_type": "code",
   "execution_count": null,
   "metadata": {},
   "outputs": [],
   "source": [
    "import pandas as pd\n",
    "import numpy as np"
   ]
  },
  {
   "cell_type": "code",
   "execution_count": null,
   "metadata": {},
   "outputs": [],
   "source": [
    "df1 = pd.read_pickle(\"benchmark_linear_bootstrap.pkl\")\n",
    "df1[\"delta_0\"] = df1[\"params_true_0\"] - df1[\"params_0\"]\n",
    "df1[\"delta_1\"] = df1[\"params_true_1\"] - df1[\"params_1\"]\n",
    "df1[\"pull_0\"] = df1[\"delta_0\"] / df1[\"errors_0\"]\n",
    "df1[\"pull_1\"] = df1[\"delta_1\"] / df1[\"errors_1\"]"
   ]
  },
  {
   "cell_type": "code",
   "execution_count": null,
   "metadata": {},
   "outputs": [],
   "source": [
    "df1.head(10)"
   ]
  },
  {
   "cell_type": "code",
   "execution_count": null,
   "metadata": {
    "scrolled": true
   },
   "outputs": [],
   "source": [
    "df2 = pd.read_pickle(\"benchmark_linear_eachfit.pkl\")\n",
    "df2.head(5)"
   ]
  },
  {
   "cell_type": "code",
   "execution_count": null,
   "metadata": {},
   "outputs": [],
   "source": [
    "df1_tf = df1.query(\"fitter_name=='Tensorflow_BFGS'\")\n",
    "df1_scipy= df1.query(\"fitter_name=='Scipy_LM'\")\n",
    "df1_torch= df1.query(\"fitter_name=='TPytorch_LBFGS'\")"
   ]
  },
  {
   "cell_type": "markdown",
   "metadata": {},
   "source": [
    "df1_tf.head(5)"
   ]
  },
  {
   "cell_type": "code",
   "execution_count": null,
   "metadata": {},
   "outputs": [],
   "source": [
    "df1_scipy.head(5)"
   ]
  },
  {
   "cell_type": "code",
   "execution_count": null,
   "metadata": {},
   "outputs": [],
   "source": [
    "df1_torch.head(5)"
   ]
  },
  {
   "cell_type": "code",
   "execution_count": null,
   "metadata": {},
   "outputs": [],
   "source": [
    "print(df1_tf[\"delta_0\"].mean(),\n",
    "df1_scipy[\"delta_0\"].mean(),\n",
    "df1_torch[\"delta_0\"].mean())"
   ]
  },
  {
   "cell_type": "code",
   "execution_count": null,
   "metadata": {},
   "outputs": [],
   "source": [
    "print(df1_tf[\"delta_0\"].std(),\n",
    "df1_scipy[\"delta_0\"].std(),\n",
    "df1_torch[\"delta_0\"].std())"
   ]
  },
  {
   "cell_type": "code",
   "execution_count": null,
   "metadata": {},
   "outputs": [],
   "source": []
  }
 ],
 "metadata": {
  "kernelspec": {
   "display_name": "Python 3",
   "language": "python",
   "name": "python3"
  },
  "language_info": {
   "codemirror_mode": {
    "name": "ipython",
    "version": 3
   },
   "file_extension": ".py",
   "mimetype": "text/x-python",
   "name": "python",
   "nbconvert_exporter": "python",
   "pygments_lexer": "ipython3",
   "version": "3.7.4"
  }
 },
 "nbformat": 4,
 "nbformat_minor": 4
}
