{
 "cells": [
  {
   "cell_type": "markdown",
   "metadata": {},
   "source": [
    "# Benchamark bootstrap summary\n",
    "We should check invariants and make alarms in case of non probable fit values\n",
    "Normal fit with init weigths  - All params,  and errors  + true value + corresponding plots \n",
    "\n",
    "## Tests:\n",
    "* timing\n",
    "* precision and error estimates:\n",
    "  * Test 1.) - average of  N  <fits-true>  with weight one  - expected value is 0    \n",
    "    * error of <fits-true> ~ rmsexp/sqrt(N)\n",
    "  * Test 2.) RMS of N <fits-true>  with with weight one  - expected value covariance estimate  \n",
    "  * Test 3.) Pulls <fit-true>/rmsexp\n"
   ]
  },
  {
   "cell_type": "code",
   "execution_count": 1,
   "metadata": {},
   "outputs": [],
   "source": [
    "import pandas as pd\n",
    "import numpy as np"
   ]
  },
  {
   "cell_type": "markdown",
   "metadata": {},
   "source": [
    "### Load input tables and define derived variables:\n",
    "* delta\n",
    "* pull"
   ]
  },
  {
   "cell_type": "code",
   "execution_count": 2,
   "metadata": {},
   "outputs": [
    {
     "data": {
      "text/html": [
       "<div>\n",
       "<style scoped>\n",
       "    .dataframe tbody tr th:only-of-type {\n",
       "        vertical-align: middle;\n",
       "    }\n",
       "\n",
       "    .dataframe tbody tr th {\n",
       "        vertical-align: top;\n",
       "    }\n",
       "\n",
       "    .dataframe thead th {\n",
       "        text-align: right;\n",
       "    }\n",
       "</style>\n",
       "<table border=\"1\" class=\"dataframe\">\n",
       "  <thead>\n",
       "    <tr style=\"text-align: right;\">\n",
       "      <th></th>\n",
       "      <th>fitter_name</th>\n",
       "      <th>fit_idx</th>\n",
       "      <th>number_points</th>\n",
       "      <th>time</th>\n",
       "      <th>nbootstrap</th>\n",
       "      <th>params_0</th>\n",
       "      <th>params_1</th>\n",
       "      <th>errors_0</th>\n",
       "      <th>errors_1</th>\n",
       "      <th>bs_mean_0</th>\n",
       "      <th>...</th>\n",
       "      <th>bs_median_0</th>\n",
       "      <th>bs_median_1</th>\n",
       "      <th>bs_std_0</th>\n",
       "      <th>bs_std_1</th>\n",
       "      <th>params_true_0</th>\n",
       "      <th>params_true_1</th>\n",
       "      <th>delta_0</th>\n",
       "      <th>delta_1</th>\n",
       "      <th>pull_0</th>\n",
       "      <th>pull_1</th>\n",
       "    </tr>\n",
       "  </thead>\n",
       "  <tbody>\n",
       "    <tr>\n",
       "      <th>0</th>\n",
       "      <td>Tensorflow_BFGS</td>\n",
       "      <td>0</td>\n",
       "      <td>1000</td>\n",
       "      <td>0.563845</td>\n",
       "      <td>50</td>\n",
       "      <td>0.785965</td>\n",
       "      <td>0.981921</td>\n",
       "      <td>0.001890</td>\n",
       "      <td>0.006136</td>\n",
       "      <td>0.785965</td>\n",
       "      <td>...</td>\n",
       "      <td>0.785965</td>\n",
       "      <td>0.981921</td>\n",
       "      <td>0.000000</td>\n",
       "      <td>4.172325e-07</td>\n",
       "      <td>0.786804</td>\n",
       "      <td>0.979219</td>\n",
       "      <td>0.000839</td>\n",
       "      <td>-0.002702</td>\n",
       "      <td>0.443584</td>\n",
       "      <td>-0.440321</td>\n",
       "    </tr>\n",
       "    <tr>\n",
       "      <th>1</th>\n",
       "      <td>Scipy_LM</td>\n",
       "      <td>0</td>\n",
       "      <td>1000</td>\n",
       "      <td>0.090080</td>\n",
       "      <td>50</td>\n",
       "      <td>0.785965</td>\n",
       "      <td>0.981921</td>\n",
       "      <td>0.001739</td>\n",
       "      <td>0.006309</td>\n",
       "      <td>0.785642</td>\n",
       "      <td>...</td>\n",
       "      <td>0.785676</td>\n",
       "      <td>0.982347</td>\n",
       "      <td>0.001795</td>\n",
       "      <td>6.343871e-03</td>\n",
       "      <td>0.786804</td>\n",
       "      <td>0.979219</td>\n",
       "      <td>0.000839</td>\n",
       "      <td>-0.002702</td>\n",
       "      <td>0.482250</td>\n",
       "      <td>-0.428238</td>\n",
       "    </tr>\n",
       "  </tbody>\n",
       "</table>\n",
       "<p>2 rows × 21 columns</p>\n",
       "</div>"
      ],
      "text/plain": [
       "       fitter_name  fit_idx  number_points      time  nbootstrap  params_0  \\\n",
       "0  Tensorflow_BFGS        0           1000  0.563845          50  0.785965   \n",
       "1         Scipy_LM        0           1000  0.090080          50  0.785965   \n",
       "\n",
       "   params_1  errors_0  errors_1  bs_mean_0  ...  bs_median_0  bs_median_1  \\\n",
       "0  0.981921  0.001890  0.006136   0.785965  ...     0.785965     0.981921   \n",
       "1  0.981921  0.001739  0.006309   0.785642  ...     0.785676     0.982347   \n",
       "\n",
       "   bs_std_0      bs_std_1  params_true_0  params_true_1   delta_0   delta_1  \\\n",
       "0  0.000000  4.172325e-07       0.786804       0.979219  0.000839 -0.002702   \n",
       "1  0.001795  6.343871e-03       0.786804       0.979219  0.000839 -0.002702   \n",
       "\n",
       "     pull_0    pull_1  \n",
       "0  0.443584 -0.440321  \n",
       "1  0.482250 -0.428238  \n",
       "\n",
       "[2 rows x 21 columns]"
      ]
     },
     "metadata": {},
     "output_type": "display_data"
    },
    {
     "data": {
      "text/html": [
       "<div>\n",
       "<style scoped>\n",
       "    .dataframe tbody tr th:only-of-type {\n",
       "        vertical-align: middle;\n",
       "    }\n",
       "\n",
       "    .dataframe tbody tr th {\n",
       "        vertical-align: top;\n",
       "    }\n",
       "\n",
       "    .dataframe thead th {\n",
       "        text-align: right;\n",
       "    }\n",
       "</style>\n",
       "<table border=\"1\" class=\"dataframe\">\n",
       "  <thead>\n",
       "    <tr style=\"text-align: right;\">\n",
       "      <th></th>\n",
       "      <th>fitter_name</th>\n",
       "      <th>fit_idx</th>\n",
       "      <th>number_points</th>\n",
       "      <th>time</th>\n",
       "      <th>nbootstrap</th>\n",
       "      <th>params_0</th>\n",
       "      <th>params_1</th>\n",
       "      <th>errors_0</th>\n",
       "      <th>errors_1</th>\n",
       "      <th>bs_mean_0</th>\n",
       "      <th>...</th>\n",
       "      <th>bs_median_0</th>\n",
       "      <th>bs_median_1</th>\n",
       "      <th>bs_std_0</th>\n",
       "      <th>bs_std_1</th>\n",
       "      <th>params_true_0</th>\n",
       "      <th>params_true_1</th>\n",
       "      <th>delta_0</th>\n",
       "      <th>delta_1</th>\n",
       "      <th>pull_0</th>\n",
       "      <th>pull_1</th>\n",
       "    </tr>\n",
       "  </thead>\n",
       "  <tbody>\n",
       "    <tr>\n",
       "      <th>0</th>\n",
       "      <td>Tensorflow_BFGS</td>\n",
       "      <td>0</td>\n",
       "      <td>1000</td>\n",
       "      <td>0.563845</td>\n",
       "      <td>50</td>\n",
       "      <td>0.785965</td>\n",
       "      <td>0.981921</td>\n",
       "      <td>0.001890</td>\n",
       "      <td>0.006136</td>\n",
       "      <td>0.785965</td>\n",
       "      <td>...</td>\n",
       "      <td>0.785965</td>\n",
       "      <td>0.981921</td>\n",
       "      <td>0.0</td>\n",
       "      <td>4.172325e-07</td>\n",
       "      <td>0.786804</td>\n",
       "      <td>0.979219</td>\n",
       "      <td>0.000839</td>\n",
       "      <td>-0.002702</td>\n",
       "      <td>0.443584</td>\n",
       "      <td>-0.440321</td>\n",
       "    </tr>\n",
       "    <tr>\n",
       "      <th>3</th>\n",
       "      <td>Tensorflow_BFGS</td>\n",
       "      <td>1</td>\n",
       "      <td>1000</td>\n",
       "      <td>0.592605</td>\n",
       "      <td>50</td>\n",
       "      <td>0.785965</td>\n",
       "      <td>0.981921</td>\n",
       "      <td>0.044821</td>\n",
       "      <td>0.145496</td>\n",
       "      <td>0.785965</td>\n",
       "      <td>...</td>\n",
       "      <td>0.785965</td>\n",
       "      <td>0.981921</td>\n",
       "      <td>0.0</td>\n",
       "      <td>4.172325e-07</td>\n",
       "      <td>0.334969</td>\n",
       "      <td>0.183115</td>\n",
       "      <td>-0.450996</td>\n",
       "      <td>-0.798806</td>\n",
       "      <td>-10.062158</td>\n",
       "      <td>-5.490216</td>\n",
       "    </tr>\n",
       "  </tbody>\n",
       "</table>\n",
       "<p>2 rows × 21 columns</p>\n",
       "</div>"
      ],
      "text/plain": [
       "       fitter_name  fit_idx  number_points      time  nbootstrap  params_0  \\\n",
       "0  Tensorflow_BFGS        0           1000  0.563845          50  0.785965   \n",
       "3  Tensorflow_BFGS        1           1000  0.592605          50  0.785965   \n",
       "\n",
       "   params_1  errors_0  errors_1  bs_mean_0  ...  bs_median_0  bs_median_1  \\\n",
       "0  0.981921  0.001890  0.006136   0.785965  ...     0.785965     0.981921   \n",
       "3  0.981921  0.044821  0.145496   0.785965  ...     0.785965     0.981921   \n",
       "\n",
       "   bs_std_0      bs_std_1  params_true_0  params_true_1   delta_0   delta_1  \\\n",
       "0       0.0  4.172325e-07       0.786804       0.979219  0.000839 -0.002702   \n",
       "3       0.0  4.172325e-07       0.334969       0.183115 -0.450996 -0.798806   \n",
       "\n",
       "      pull_0    pull_1  \n",
       "0   0.443584 -0.440321  \n",
       "3 -10.062158 -5.490216  \n",
       "\n",
       "[2 rows x 21 columns]"
      ]
     },
     "metadata": {},
     "output_type": "display_data"
    },
    {
     "data": {
      "text/html": [
       "<div>\n",
       "<style scoped>\n",
       "    .dataframe tbody tr th:only-of-type {\n",
       "        vertical-align: middle;\n",
       "    }\n",
       "\n",
       "    .dataframe tbody tr th {\n",
       "        vertical-align: top;\n",
       "    }\n",
       "\n",
       "    .dataframe thead th {\n",
       "        text-align: right;\n",
       "    }\n",
       "</style>\n",
       "<table border=\"1\" class=\"dataframe\">\n",
       "  <thead>\n",
       "    <tr style=\"text-align: right;\">\n",
       "      <th></th>\n",
       "      <th>fitter_name</th>\n",
       "      <th>fit_idx</th>\n",
       "      <th>number_points</th>\n",
       "      <th>time</th>\n",
       "      <th>nbootstrap</th>\n",
       "      <th>params_0</th>\n",
       "      <th>params_1</th>\n",
       "      <th>errors_0</th>\n",
       "      <th>errors_1</th>\n",
       "      <th>bs_mean_0</th>\n",
       "      <th>...</th>\n",
       "      <th>bs_median_0</th>\n",
       "      <th>bs_median_1</th>\n",
       "      <th>bs_std_0</th>\n",
       "      <th>bs_std_1</th>\n",
       "      <th>params_true_0</th>\n",
       "      <th>params_true_1</th>\n",
       "      <th>delta_0</th>\n",
       "      <th>delta_1</th>\n",
       "      <th>pull_0</th>\n",
       "      <th>pull_1</th>\n",
       "    </tr>\n",
       "  </thead>\n",
       "  <tbody>\n",
       "    <tr>\n",
       "      <th>1</th>\n",
       "      <td>Scipy_LM</td>\n",
       "      <td>0</td>\n",
       "      <td>1000</td>\n",
       "      <td>0.090080</td>\n",
       "      <td>50</td>\n",
       "      <td>0.785965</td>\n",
       "      <td>0.981921</td>\n",
       "      <td>0.001739</td>\n",
       "      <td>0.006309</td>\n",
       "      <td>0.785642</td>\n",
       "      <td>...</td>\n",
       "      <td>0.785676</td>\n",
       "      <td>0.982347</td>\n",
       "      <td>0.001795</td>\n",
       "      <td>0.006344</td>\n",
       "      <td>0.786804</td>\n",
       "      <td>0.979219</td>\n",
       "      <td>0.000839</td>\n",
       "      <td>-0.002702</td>\n",
       "      <td>0.48225</td>\n",
       "      <td>-0.428238</td>\n",
       "    </tr>\n",
       "    <tr>\n",
       "      <th>4</th>\n",
       "      <td>Scipy_LM</td>\n",
       "      <td>1</td>\n",
       "      <td>1000</td>\n",
       "      <td>0.158576</td>\n",
       "      <td>50</td>\n",
       "      <td>0.336786</td>\n",
       "      <td>0.175523</td>\n",
       "      <td>0.001700</td>\n",
       "      <td>0.006170</td>\n",
       "      <td>0.336608</td>\n",
       "      <td>...</td>\n",
       "      <td>0.336780</td>\n",
       "      <td>0.176099</td>\n",
       "      <td>0.001475</td>\n",
       "      <td>0.004761</td>\n",
       "      <td>0.334969</td>\n",
       "      <td>0.183115</td>\n",
       "      <td>-0.001818</td>\n",
       "      <td>0.007592</td>\n",
       "      <td>-1.06900</td>\n",
       "      <td>1.230453</td>\n",
       "    </tr>\n",
       "  </tbody>\n",
       "</table>\n",
       "<p>2 rows × 21 columns</p>\n",
       "</div>"
      ],
      "text/plain": [
       "  fitter_name  fit_idx  number_points      time  nbootstrap  params_0  \\\n",
       "1    Scipy_LM        0           1000  0.090080          50  0.785965   \n",
       "4    Scipy_LM        1           1000  0.158576          50  0.336786   \n",
       "\n",
       "   params_1  errors_0  errors_1  bs_mean_0  ...  bs_median_0  bs_median_1  \\\n",
       "1  0.981921  0.001739  0.006309   0.785642  ...     0.785676     0.982347   \n",
       "4  0.175523  0.001700  0.006170   0.336608  ...     0.336780     0.176099   \n",
       "\n",
       "   bs_std_0  bs_std_1  params_true_0  params_true_1   delta_0   delta_1  \\\n",
       "1  0.001795  0.006344       0.786804       0.979219  0.000839 -0.002702   \n",
       "4  0.001475  0.004761       0.334969       0.183115 -0.001818  0.007592   \n",
       "\n",
       "    pull_0    pull_1  \n",
       "1  0.48225 -0.428238  \n",
       "4 -1.06900  1.230453  \n",
       "\n",
       "[2 rows x 21 columns]"
      ]
     },
     "metadata": {},
     "output_type": "display_data"
    },
    {
     "data": {
      "text/html": [
       "<div>\n",
       "<style scoped>\n",
       "    .dataframe tbody tr th:only-of-type {\n",
       "        vertical-align: middle;\n",
       "    }\n",
       "\n",
       "    .dataframe tbody tr th {\n",
       "        vertical-align: top;\n",
       "    }\n",
       "\n",
       "    .dataframe thead th {\n",
       "        text-align: right;\n",
       "    }\n",
       "</style>\n",
       "<table border=\"1\" class=\"dataframe\">\n",
       "  <thead>\n",
       "    <tr style=\"text-align: right;\">\n",
       "      <th></th>\n",
       "      <th>fitter_name</th>\n",
       "      <th>fit_idx</th>\n",
       "      <th>number_points</th>\n",
       "      <th>time</th>\n",
       "      <th>nbootstrap</th>\n",
       "      <th>params_0</th>\n",
       "      <th>params_1</th>\n",
       "      <th>errors_0</th>\n",
       "      <th>errors_1</th>\n",
       "      <th>bs_mean_0</th>\n",
       "      <th>...</th>\n",
       "      <th>bs_median_0</th>\n",
       "      <th>bs_median_1</th>\n",
       "      <th>bs_std_0</th>\n",
       "      <th>bs_std_1</th>\n",
       "      <th>params_true_0</th>\n",
       "      <th>params_true_1</th>\n",
       "      <th>delta_0</th>\n",
       "      <th>delta_1</th>\n",
       "      <th>pull_0</th>\n",
       "      <th>pull_1</th>\n",
       "    </tr>\n",
       "  </thead>\n",
       "  <tbody>\n",
       "    <tr>\n",
       "      <th>2</th>\n",
       "      <td>Pytorch_LBFGS</td>\n",
       "      <td>0</td>\n",
       "      <td>1000</td>\n",
       "      <td>0.519049</td>\n",
       "      <td>50</td>\n",
       "      <td>0.785965</td>\n",
       "      <td>0.981921</td>\n",
       "      <td>0.001739</td>\n",
       "      <td>0.006309</td>\n",
       "      <td>0.785642</td>\n",
       "      <td>...</td>\n",
       "      <td>0.785677</td>\n",
       "      <td>0.982350</td>\n",
       "      <td>0.001795</td>\n",
       "      <td>0.006344</td>\n",
       "      <td>0.786804</td>\n",
       "      <td>0.979219</td>\n",
       "      <td>0.000839</td>\n",
       "      <td>-0.002702</td>\n",
       "      <td>0.482271</td>\n",
       "      <td>-0.428248</td>\n",
       "    </tr>\n",
       "    <tr>\n",
       "      <th>5</th>\n",
       "      <td>Pytorch_LBFGS</td>\n",
       "      <td>1</td>\n",
       "      <td>1000</td>\n",
       "      <td>0.908327</td>\n",
       "      <td>50</td>\n",
       "      <td>0.336786</td>\n",
       "      <td>0.175523</td>\n",
       "      <td>0.001700</td>\n",
       "      <td>0.006170</td>\n",
       "      <td>0.336608</td>\n",
       "      <td>...</td>\n",
       "      <td>0.336780</td>\n",
       "      <td>0.176099</td>\n",
       "      <td>0.001475</td>\n",
       "      <td>0.004761</td>\n",
       "      <td>0.334969</td>\n",
       "      <td>0.183115</td>\n",
       "      <td>-0.001818</td>\n",
       "      <td>0.007592</td>\n",
       "      <td>-1.068856</td>\n",
       "      <td>1.230455</td>\n",
       "    </tr>\n",
       "  </tbody>\n",
       "</table>\n",
       "<p>2 rows × 21 columns</p>\n",
       "</div>"
      ],
      "text/plain": [
       "     fitter_name  fit_idx  number_points      time  nbootstrap  params_0  \\\n",
       "2  Pytorch_LBFGS        0           1000  0.519049          50  0.785965   \n",
       "5  Pytorch_LBFGS        1           1000  0.908327          50  0.336786   \n",
       "\n",
       "   params_1  errors_0  errors_1  bs_mean_0  ...  bs_median_0  bs_median_1  \\\n",
       "2  0.981921  0.001739  0.006309   0.785642  ...     0.785677     0.982350   \n",
       "5  0.175523  0.001700  0.006170   0.336608  ...     0.336780     0.176099   \n",
       "\n",
       "   bs_std_0  bs_std_1  params_true_0  params_true_1   delta_0   delta_1  \\\n",
       "2  0.001795  0.006344       0.786804       0.979219  0.000839 -0.002702   \n",
       "5  0.001475  0.004761       0.334969       0.183115 -0.001818  0.007592   \n",
       "\n",
       "     pull_0    pull_1  \n",
       "2  0.482271 -0.428248  \n",
       "5 -1.068856  1.230455  \n",
       "\n",
       "[2 rows x 21 columns]"
      ]
     },
     "metadata": {},
     "output_type": "display_data"
    }
   ],
   "source": [
    "df1 = pd.read_pickle(\"benchmark_linear_bootstrap.pkl\")\n",
    "#df1=df1.query(\"number_points==1000\")\n",
    "df1[\"delta_0\"] = df1[\"params_true_0\"] - df1[\"params_0\"]\n",
    "df1[\"delta_1\"] = df1[\"params_true_1\"] - df1[\"params_1\"]\n",
    "df1[\"pull_0\"] = df1[\"delta_0\"] / df1[\"errors_0\"]\n",
    "df1[\"pull_1\"] = df1[\"delta_1\"] / df1[\"errors_1\"]\n",
    "#\n",
    "df1_tf = df1.query(\"fitter_name=='Tensorflow_BFGS'\")\n",
    "df1_scipy= df1.query(\"fitter_name=='Scipy_LM'\")\n",
    "df1_torch= df1.query(\"fitter_name=='Pytorch_LBFGS'\")\n",
    "N = len(df1_tf.index)\n",
    "display(df1.head(2))\n",
    "display(df1_tf.head(2))\n",
    "display(df1_scipy.head(2))\n",
    "display(df1_torch.head(2))"
   ]
  },
  {
   "cell_type": "markdown",
   "metadata": {},
   "source": [
    "### Test 1.) - average of  N  <fits-true>  with weight one  - expected value is 0    \n",
    "* error of <fits-true>:  $\\sigma_{N} = \\frac{\\sigma_{exp1}}{\\sqrt{N}}$\n",
    "* Alarm value $|<delta_{i}>| > 3 \\sigma_{N}$     "
   ]
  },
  {
   "cell_type": "code",
   "execution_count": 3,
   "metadata": {},
   "outputs": [
    {
     "name": "stdout",
     "output_type": "stream",
     "text": [
      "Fit type:\tmean\t\trms_estimate\t\tstatus\n",
      "Tensorflow:\t-0.320467\t0.002036\t       0\n",
      "Scipy:      \t-0.000234\t0.000114\t       1\n",
      "Pytorch:      \t-0.000234\t0.000114\t       1\n",
      "Tensorflow:\t-0.501336\t0.006610\t       0\n",
      "Scipyi:      \t0.000869\t0.000415\t       1\n",
      "Pytorch:      \t0.000869\t0.000415\t       1\n"
     ]
    }
   ],
   "source": [
    "print(\"Fit type:\\tmean\\t\\trms_estimate\\t\\tstatus\")\n",
    "print(\"Tensorflow:\\t%8.6F\\t%8.6F\\t%8.0F\" % (df1_tf[\"delta_0\"].mean(), df1_tf[\"errors_0\"].mean()/np.sqrt(N), \\\n",
    "      np.abs(df1_tf[\"delta_0\"].mean())< 3* df1_tf[\"errors_0\"].mean()/np.sqrt(N)))\n",
    "print(\"Scipy:      \\t%8.6F\\t%8.6F\\t%8.0F\" % (df1_scipy[\"delta_0\"].mean(), df1_scipy[\"errors_0\"].mean()/np.sqrt(N), \\\n",
    "      np.abs(df1_scipy[\"delta_0\"].mean())< 3* df1_scipy[\"errors_0\"].mean()/np.sqrt(N)))\n",
    "print(\"Pytorch:      \\t%8.6F\\t%8.6F\\t%8.0F\" % (df1_torch[\"delta_0\"].mean(), df1_torch[\"errors_0\"].mean()/np.sqrt(N), \\\n",
    "      np.abs(df1_torch[\"delta_0\"].mean())< 3* df1_torch[\"errors_0\"].mean()/np.sqrt(N)))\n",
    "print(\"Tensorflow:\\t%8.6F\\t%8.6F\\t%8.0F\" % (df1_tf[\"delta_1\"].mean(), df1_tf[\"errors_1\"].mean()/np.sqrt(N), \\\n",
    "      np.abs(df1_tf[\"delta_1\"].mean())< 3* df1_tf[\"errors_1\"].mean()/np.sqrt(N)))\n",
    "print(\"Scipyi:      \\t%8.6F\\t%8.6F\\t%8.0F\" % (df1_scipy[\"delta_1\"].mean(), df1_scipy[\"errors_1\"].mean()/np.sqrt(N), \\\n",
    "      np.abs(df1_scipy[\"delta_1\"].mean())< 3* df1_scipy[\"errors_1\"].mean()/np.sqrt(N)))\n",
    "print(\"Pytorch:      \\t%8.6F\\t%8.6F\\t%8.0F\" % (df1_torch[\"delta_1\"].mean(), df1_torch[\"errors_1\"].mean()/np.sqrt(N), \\\n",
    "      np.abs(df1_torch[\"delta_1\"].mean())< 3* df1_torch[\"errors_1\"].mean()/np.sqrt(N)))"
   ]
  },
  {
   "cell_type": "code",
   "execution_count": 4,
   "metadata": {},
   "outputs": [
    {
     "name": "stdout",
     "output_type": "stream",
     "text": [
      "0.006294820833280138 0.0020032634716144575\n",
      "0.0002815128969208238 2.8330442026821702e-05\n"
     ]
    }
   ],
   "source": [
    "print(df1_scipy.query(\"number_points==1000\")[\"errors_1\"].mean(),\n",
    "df1_scipy.query(\"number_points==10000\")[\"errors_1\"].mean())\n",
    "print(df1_torch.query(\"number_points==1000\")[\"errors_1\"].mean()/np.sqrt(1000./2.),\n",
    "df1_torch.query(\"number_points==10000\")[\"errors_1\"].mean()/np.sqrt(10000./2.))"
   ]
  },
  {
   "cell_type": "markdown",
   "metadata": {},
   "source": [
    "### Test 2.) - RMS of N <fits-true>  with with weight one  - expected value covariance estimate \n",
    "* $\\sigma_{<rms_e>} \\approx \\frac{<rms_e>}{N}$\n",
    "* Alarm value $|std-<rms_e>| > 3 \\sigma_{N}$    "
   ]
  },
  {
   "cell_type": "code",
   "execution_count": 5,
   "metadata": {},
   "outputs": [
    {
     "name": "stdout",
     "output_type": "stream",
     "text": [
      "Fit type:\tstd\t\tbootstrap_std\t\trms_estimate\t status\n",
      "Tensorflow:\t0.296501\t0.000000\t\t0.020362\t 0\n",
      "Scipy:\t\t0.001107\t0.001136\t\t0.001144\t 1\n",
      "Pytorch:\t0.001107\t0.001136\t\t0.001144\t 1\n",
      "Tensorflow:\t0.290690\t0.000000\t\t0.066099\t 0\n",
      "Scipy:\t\t0.004499\t0.004081\t\t0.004149\t 1\n",
      "Pytorch:\t0.004499\t0.004081\t\t0.004149\t 1\n"
     ]
    }
   ],
   "source": [
    "print(\"Fit type:\\tstd\\t\\tbootstrap_std\\t\\trms_estimate\\t status\")\n",
    "isOK=np.abs(df1_tf[\"delta_0\"].std()-df1_tf[\"errors_0\"].mean())<3*df1_tf[\"errors_0\"].mean()/np.sqrt(N)\n",
    "print(\"Tensorflow:\\t%8.6F\\t%8.6F\\t\\t%8.6F\\t%2.0F\" % (df1_tf[\"delta_0\"].std(),df1_tf[\"bs_std_0\"].mean(), df1_tf[\"errors_0\"].mean(),isOK))\n",
    "\n",
    "isOK=np.abs(df1_scipy[\"delta_0\"].std()-df1_scipy[\"errors_0\"].mean())<3*df1_scipy[\"errors_0\"].mean()/np.sqrt(N)\n",
    "print(\"Scipy:\\t\\t%8.6F\\t%8.6F\\t\\t%8.6F\\t%2.0F\" % (df1_scipy[\"delta_0\"].std(),df1_scipy[\"bs_std_0\"].mean(), df1_scipy[\"errors_0\"].mean(),isOK))\n",
    "\n",
    "isOK=np.abs(df1_torch[\"delta_0\"].std()-df1_torch[\"errors_0\"].mean())<3*df1_torch[\"errors_0\"].mean()/np.sqrt(N)\n",
    "print(\"Pytorch:\\t%8.6F\\t%8.6F\\t\\t%8.6F\\t%2.0F\" % (df1_torch[\"delta_0\"].std(),df1_torch[\"bs_std_0\"].mean(), df1_torch[\"errors_0\"].mean(),isOK))\n",
    "\n",
    "isOK=np.abs(df1_tf[\"delta_1\"].std()-df1_tf[\"errors_1\"].mean())<3*df1_tf[\"errors_1\"].mean()/np.sqrt(N)\n",
    "print(\"Tensorflow:\\t%8.6F\\t%8.6F\\t\\t%8.6F\\t%2.0F\" % (df1_tf[\"delta_1\"].std(),df1_tf[\"bs_std_1\"].mean(), df1_tf[\"errors_1\"].mean(),isOK))\n",
    "\n",
    "isOK=np.abs(df1_scipy[\"delta_1\"].std()-df1_scipy[\"errors_1\"].mean())<3*df1_scipy[\"errors_1\"].mean()/np.sqrt(N)\n",
    "print(\"Scipy:\\t\\t%8.6F\\t%8.6F\\t\\t%8.6F\\t%2.0F\" % (df1_scipy[\"delta_1\"].std(),df1_scipy[\"bs_std_1\"].mean(), df1_scipy[\"errors_1\"].mean(),isOK))\n",
    "\n",
    "isOK=np.abs(df1_torch[\"delta_1\"].std()-df1_torch[\"errors_1\"].mean())<3*df1_torch[\"errors_1\"].mean()/np.sqrt(N)\n",
    "print(\"Pytorch:\\t%8.6F\\t%8.6F\\t\\t%8.6F\\t%2.0F\" % (df1_torch[\"delta_1\"].std(),df1_torch[\"bs_std_1\"].mean(), df1_torch[\"errors_1\"].mean(),isOK))"
   ]
  },
  {
   "cell_type": "markdown",
   "metadata": {},
   "source": [
    "## Test 3. - pulls of N with unit weights\n",
    "- Expected value 0\n",
    "- Alarm value $ |<pulls_i>|> \\frac{3}{\\sqrt{N}}$ or $ |std({<pulls>})-1|> \\frac{3}{\\sqrt{N}}$"
   ]
  },
  {
   "cell_type": "code",
   "execution_count": 22,
   "metadata": {},
   "outputs": [
    {
     "name": "stdout",
     "output_type": "stream",
     "text": [
      "Fit type:\tpull mean\tpull std\tstatus\n",
      "Tensorflow:\t-12.691144\t26.629399\t 0\n",
      "Scipy:\t\t-0.147457\t0.923433\t 1\n",
      "Pytorch:\t-0.147461\t0.923429\t 1\n",
      "Tensorflow:\t-14.910767\t18.910121\t 0\n",
      "Scipy:\t\t0.188583\t0.997990\t 1\n",
      "Pytorch:\t0.188600\t0.998057\t 1\n"
     ]
    }
   ],
   "source": [
    "print(\"Fit type:\\tpull mean\\tpull std\\tstatus\")\n",
    "isOK=np.abs(df1_tf[\"pull_0\"].mean())<3/np.sqrt(N) and np.abs(df1_tf[\"pull_0\"].std()-1)<3/np.sqrt(N)\n",
    "print(\"Tensorflow:\\t%8.6F\\t%8.6F\\t%2.0F\" % (df1_tf[\"pull_0\"].mean(),df1_tf[\"pull_0\"].std(),isOK))\n",
    "\n",
    "isOK=np.abs(df1_scipy[\"pull_0\"].mean())<3/np.sqrt(N) and np.abs(df1_scipy[\"pull_0\"].std()-1)<3/np.sqrt(N)\n",
    "print(\"Scipy:\\t\\t%8.6F\\t%8.6F\\t%2.0F\" % (df1_scipy[\"pull_0\"].mean(),df1_scipy[\"pull_0\"].std(),isOK))\n",
    "\n",
    "isOK=np.abs(df1_torch[\"pull_0\"].mean())<3/np.sqrt(N) and np.abs(df1_torch[\"pull_0\"].std()-1)<3/np.sqrt(N)\n",
    "print(\"Pytorch:\\t%8.6F\\t%8.6F\\t%2.0F\" % (df1_torch[\"pull_0\"].mean(),df1_torch[\"pull_0\"].std(),isOK))\n",
    "\n",
    "isOK=np.abs(df1_tf[\"pull_1\"].mean())<3/np.sqrt(N) and np.abs(df1_tf[\"pull_1\"].std()-1)<3/np.sqrt(N)\n",
    "print(\"Tensorflow:\\t%8.6F\\t%8.6F\\t%2.0F\" % (df1_tf[\"pull_1\"].mean(),df1_tf[\"pull_1\"].std(),isOK))\n",
    "\n",
    "isOK=np.abs(df1_scipy[\"pull_1\"].mean())<3/np.sqrt(N) and np.abs(df1_scipy[\"pull_1\"].std()-1)<3/np.sqrt(N)\n",
    "print(\"Scipy:\\t\\t%8.6F\\t%8.6F\\t%2.0F\" % (df1_scipy[\"pull_1\"].mean(),df1_scipy[\"pull_1\"].std(),isOK))\n",
    "\n",
    "isOK=np.abs(df1_torch[\"pull_1\"].mean())<3/np.sqrt(N) and np.abs(df1_torch[\"pull_1\"].std()-1)<3/np.sqrt(N)\n",
    "print(\"Pytorch:\\t%8.6F\\t%8.6F\\t%2.0F\" % (df1_torch[\"pull_1\"].mean(),df1_torch[\"pull_1\"].std(),isOK))"
   ]
  },
  {
   "cell_type": "markdown",
   "metadata": {},
   "source": [
    "### Histogram of pulls"
   ]
  },
  {
   "cell_type": "code",
   "execution_count": 7,
   "metadata": {},
   "outputs": [
    {
     "data": {
      "text/plain": [
       "<matplotlib.axes._subplots.AxesSubplot at 0x1e98a63a2c8>"
      ]
     },
     "metadata": {},
     "output_type": "display_data"
    },
    {
     "data": {
      "text/plain": [
       "<matplotlib.axes._subplots.AxesSubplot at 0x1e98a63a2c8>"
      ]
     },
     "metadata": {},
     "output_type": "display_data"
    },
    {
     "data": {
      "text/plain": [
       "<matplotlib.axes._subplots.AxesSubplot at 0x1e98a63a2c8>"
      ]
     },
     "metadata": {},
     "output_type": "display_data"
    },
    {
     "data": {
      "image/png": "[encoded data removed]",
      "text/plain": [
       "<Figure size 432x288 with 1 Axes>"
      ]
     },
     "metadata": {
      "needs_background": "light"
     },
     "output_type": "display_data"
    }
   ],
   "source": [
    "display(df1_tf[\"pull_0\"].hist())\n",
    "display(df1_scipy[\"pull_0\"].hist())\n",
    "display(df1_torch[\"pull_0\"].hist())"
   ]
  },
  {
   "cell_type": "code",
   "execution_count": 8,
   "metadata": {},
   "outputs": [
    {
     "data": {
      "text/plain": [
       "<matplotlib.axes._subplots.AxesSubplot at 0x1e98b1e36c8>"
      ]
     },
     "execution_count": 8,
     "metadata": {},
     "output_type": "execute_result"
    },
    {
     "data": {
      "image/png": "[encoded data removed]",
      "text/plain": [
       "<Figure size 432x288 with 1 Axes>"
      ]
     },
     "metadata": {
      "needs_background": "light"
     },
     "output_type": "display_data"
    }
   ],
   "source": [
    "df1_torch[\"pull_0\"].hist()"
   ]
  },
  {
   "cell_type": "markdown",
   "metadata": {},
   "source": [
    "This seems suspicious, pytorch fitter seems to overestimate the errors"
   ]
  },
  {
   "cell_type": "code",
   "execution_count": 9,
   "metadata": {},
   "outputs": [
    {
     "data": {
      "text/plain": [
       "<matplotlib.axes._subplots.AxesSubplot at 0x1e98b2aae08>"
      ]
     },
     "execution_count": 9,
     "metadata": {},
     "output_type": "execute_result"
    },
    {
     "data": {
      "image/png": "[encoded data removed]",
      "text/plain": [
       "<Figure size 432x288 with 1 Axes>"
      ]
     },
     "metadata": {
      "needs_background": "light"
     },
     "output_type": "display_data"
    }
   ],
   "source": [
    "df1_torch.query(\"number_points==10000\")[\"time\"].hist()\n",
    "df1_scipy.query(\"number_points==10000\")[\"time\"].hist()\n",
    "df1_tf.query(\"number_points==10000\")[\"time\"].hist()"
   ]
  },
  {
   "cell_type": "code",
   "execution_count": null,
   "metadata": {},
   "outputs": [],
   "source": []
  },
  {
   "cell_type": "code",
   "execution_count": 10,
   "metadata": {
    "scrolled": true
   },
   "outputs": [
    {
     "data": {
      "text/html": [
       "<div>\n",
       "<style scoped>\n",
       "    .dataframe tbody tr th:only-of-type {\n",
       "        vertical-align: middle;\n",
       "    }\n",
       "\n",
       "    .dataframe tbody tr th {\n",
       "        vertical-align: top;\n",
       "    }\n",
       "\n",
       "    .dataframe thead th {\n",
       "        text-align: right;\n",
       "    }\n",
       "</style>\n",
       "<table border=\"1\" class=\"dataframe\">\n",
       "  <thead>\n",
       "    <tr style=\"text-align: right;\">\n",
       "      <th></th>\n",
       "      <th>optimizers</th>\n",
       "      <th>number_points</th>\n",
       "      <th>weights_idx</th>\n",
       "      <th>chisq</th>\n",
       "      <th>chisq_transformed</th>\n",
       "      <th>params_0</th>\n",
       "      <th>params_1</th>\n",
       "      <th>errors_0</th>\n",
       "      <th>errors_1</th>\n",
       "      <th>fit_idx</th>\n",
       "      <th>params_true_0</th>\n",
       "      <th>params_true_1</th>\n",
       "    </tr>\n",
       "  </thead>\n",
       "  <tbody>\n",
       "    <tr>\n",
       "      <th>0</th>\n",
       "      <td>Tensorflow_BFGS</td>\n",
       "      <td>1000</td>\n",
       "      <td>0</td>\n",
       "      <td>994.713</td>\n",
       "      <td>994.713</td>\n",
       "      <td>0.785965</td>\n",
       "      <td>0.981921</td>\n",
       "      <td>0.00189</td>\n",
       "      <td>0.006136</td>\n",
       "      <td>0</td>\n",
       "      <td>0.786804</td>\n",
       "      <td>0.979219</td>\n",
       "    </tr>\n",
       "    <tr>\n",
       "      <th>1</th>\n",
       "      <td>Tensorflow_BFGS</td>\n",
       "      <td>1000</td>\n",
       "      <td>1</td>\n",
       "      <td>994.713</td>\n",
       "      <td>994.713</td>\n",
       "      <td>0.785965</td>\n",
       "      <td>0.981921</td>\n",
       "      <td>0.00189</td>\n",
       "      <td>0.006136</td>\n",
       "      <td>0</td>\n",
       "      <td>0.786804</td>\n",
       "      <td>0.979219</td>\n",
       "    </tr>\n",
       "    <tr>\n",
       "      <th>2</th>\n",
       "      <td>Tensorflow_BFGS</td>\n",
       "      <td>1000</td>\n",
       "      <td>2</td>\n",
       "      <td>994.713</td>\n",
       "      <td>994.713</td>\n",
       "      <td>0.785965</td>\n",
       "      <td>0.981921</td>\n",
       "      <td>0.00189</td>\n",
       "      <td>0.006136</td>\n",
       "      <td>0</td>\n",
       "      <td>0.786804</td>\n",
       "      <td>0.979219</td>\n",
       "    </tr>\n",
       "    <tr>\n",
       "      <th>3</th>\n",
       "      <td>Tensorflow_BFGS</td>\n",
       "      <td>1000</td>\n",
       "      <td>3</td>\n",
       "      <td>994.713</td>\n",
       "      <td>994.713</td>\n",
       "      <td>0.785965</td>\n",
       "      <td>0.981921</td>\n",
       "      <td>0.00189</td>\n",
       "      <td>0.006136</td>\n",
       "      <td>0</td>\n",
       "      <td>0.786804</td>\n",
       "      <td>0.979219</td>\n",
       "    </tr>\n",
       "    <tr>\n",
       "      <th>4</th>\n",
       "      <td>Tensorflow_BFGS</td>\n",
       "      <td>1000</td>\n",
       "      <td>4</td>\n",
       "      <td>994.713</td>\n",
       "      <td>994.713</td>\n",
       "      <td>0.785965</td>\n",
       "      <td>0.981921</td>\n",
       "      <td>0.00189</td>\n",
       "      <td>0.006136</td>\n",
       "      <td>0</td>\n",
       "      <td>0.786804</td>\n",
       "      <td>0.979219</td>\n",
       "    </tr>\n",
       "  </tbody>\n",
       "</table>\n",
       "</div>"
      ],
      "text/plain": [
       "        optimizers  number_points  weights_idx    chisq chisq_transformed  \\\n",
       "0  Tensorflow_BFGS           1000            0  994.713           994.713   \n",
       "1  Tensorflow_BFGS           1000            1  994.713           994.713   \n",
       "2  Tensorflow_BFGS           1000            2  994.713           994.713   \n",
       "3  Tensorflow_BFGS           1000            3  994.713           994.713   \n",
       "4  Tensorflow_BFGS           1000            4  994.713           994.713   \n",
       "\n",
       "   params_0  params_1  errors_0  errors_1  fit_idx  params_true_0  \\\n",
       "0  0.785965  0.981921   0.00189  0.006136        0       0.786804   \n",
       "1  0.785965  0.981921   0.00189  0.006136        0       0.786804   \n",
       "2  0.785965  0.981921   0.00189  0.006136        0       0.786804   \n",
       "3  0.785965  0.981921   0.00189  0.006136        0       0.786804   \n",
       "4  0.785965  0.981921   0.00189  0.006136        0       0.786804   \n",
       "\n",
       "   params_true_1  \n",
       "0       0.979219  \n",
       "1       0.979219  \n",
       "2       0.979219  \n",
       "3       0.979219  \n",
       "4       0.979219  "
      ]
     },
     "execution_count": 10,
     "metadata": {},
     "output_type": "execute_result"
    }
   ],
   "source": [
    "df2 = pd.read_pickle(\"benchmark_linear_eachfit.pkl\")\n",
    "df2.head(5)"
   ]
  }
 ],
 "metadata": {
  "kernelspec": {
   "display_name": "Python 3",
   "language": "python",
   "name": "python3"
  },
  "language_info": {
   "codemirror_mode": {
    "name": "ipython",
    "version": 3
   },
   "file_extension": ".py",
   "mimetype": "text/x-python",
   "name": "python",
   "nbconvert_exporter": "python",
   "pygments_lexer": "ipython3",
   "version": "3.7.4"
  }
 },
 "nbformat": 4,
 "nbformat_minor": 4
}
