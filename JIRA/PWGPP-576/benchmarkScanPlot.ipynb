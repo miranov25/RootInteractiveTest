{
 "cells": [
  {
   "cell_type": "code",
   "execution_count": null,
   "metadata": {},
   "outputs": [],
   "source": [
    "import pandas as pd"
   ]
  },
  {
   "cell_type": "code",
   "execution_count": null,
   "metadata": {},
   "outputs": [],
   "source": [
    "df = pd.read_pickle(\"benchmark_linear.pkl\")"
   ]
  },
  {
   "cell_type": "code",
   "execution_count": null,
   "metadata": {},
   "outputs": [],
   "source": [
    "df.head(5)"
   ]
  },
  {
   "cell_type": "code",
   "execution_count": null,
   "metadata": {},
   "outputs": [],
   "source": [
    "df[\"delta0\"]=df[\"params_0\"]-df[\"params_true_0\"]\n",
    "df[\"pull0\"]=(df[\"params_0\"]-df[\"params_true_0\"])/df[\"errors_0\"]\n",
    "df[\"delta1\"]=df[\"params_1\"]-df[\"params_true_1\"]\n",
    "df[\"pull1\"]=(df[\"params_1\"]-df[\"params_true_1\"])/df[\"errors_1\"]\n",
    "df0=df.query('optimizers==\"PyTorch_LBFGS\"&number_points==10000').copy()\n",
    "df1=df.query('optimizers==\"Scipy_LM\"&number_points==10000').copy()\n",
    "df0=df0.set_index('weights_idx')\n",
    "df1=df1.set_index('weights_idx')\n",
    "dfj=df0.join(df1, lsuffix='_1', rsuffix='_0',on=\"weights_idx\")"
   ]
  },
  {
   "cell_type": "code",
   "execution_count": null,
   "metadata": {},
   "outputs": [],
   "source": [
    "dfj"
   ]
  },
  {
   "cell_type": "code",
   "execution_count": null,
   "metadata": {},
   "outputs": [],
   "source": [
    "plot=dfj.plot.scatter(x=\"params_1_1\",y=\"params_1_0\")\n",
    "#his1=dfj[\"delta_1\"].hist(bins=10)\n",
    "#his0=dfj[\"delta_0\"].hist(bins=10)\n"
   ]
  },
  {
   "cell_type": "code",
   "execution_count": null,
   "metadata": {},
   "outputs": [],
   "source": [
    "dfj[\"delta1_0\"].hist(bins=50)\n",
    "dfj[\"delta0_0\"].hist(bins=50)"
   ]
  },
  {
   "cell_type": "code",
   "execution_count": null,
   "metadata": {},
   "outputs": [],
   "source": [
    "h0=dfj[\"pull0_0\"].hist(bins=50)\n",
    "h1=dfj[\"pull1_0\"].hist(bins=50)\n",
    "print(dfj[\"delta0_1\"].mean())"
   ]
  },
  {
   "cell_type": "code",
   "execution_count": null,
   "metadata": {},
   "outputs": [],
   "source": [
    "dfj[\"pull0_0\"].std()"
   ]
  },
  {
   "cell_type": "code",
   "execution_count": null,
   "metadata": {},
   "outputs": [],
   "source": [
    "dfj[\"pull0_0\"].mean"
   ]
  },
  {
   "cell_type": "code",
   "execution_count": null,
   "metadata": {},
   "outputs": [],
   "source": [
    "import numpy as np\n",
    "nfits=10\n",
    "el=5\n",
    "np.random.poisson( lam=1,size=(nfits,el)) "
   ]
  },
  {
   "cell_type": "code",
   "execution_count": null,
   "metadata": {},
   "outputs": [],
   "source": [
    "np.random.poisson(lam=(100., 500.), size=(100, nel))"
   ]
  },
  {
   "cell_type": "code",
   "execution_count": null,
   "metadata": {},
   "outputs": [],
   "source": []
  }
 ],
 "metadata": {
  "kernelspec": {
   "display_name": "Python 3",
   "language": "python",
   "name": "python3"
  },
  "language_info": {
   "codemirror_mode": {
    "name": "ipython",
    "version": 3
   },
   "file_extension": ".py",
   "mimetype": "text/x-python",
   "name": "python",
   "nbconvert_exporter": "python",
   "pygments_lexer": "ipython3",
   "version": "3.6.9"
  }
 },
 "nbformat": 4,
 "nbformat_minor": 4
}
