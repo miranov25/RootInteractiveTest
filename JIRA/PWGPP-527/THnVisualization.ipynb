{
 "cells": [
  {
   "cell_type": "markdown",
   "metadata": {},
   "source": [
    "## Import necessary libraries"
   ]
  },
  {
   "cell_type": "code",
   "execution_count": null,
   "metadata": {},
   "outputs": [],
   "source": [
    "import ROOT\n",
    "from bokehDrawHistoTHn import *\n",
    "from bokeh.plotting import output_file\n",
    "from bokeh.io import output_notebook\n",
    "output_notebook()"
   ]
  },
  {
   "cell_type": "markdown",
   "metadata": {},
   "source": [
    "## download the data files\n",
    "activate the appropriate line (For Monte Carlo or Real Data)"
   ]
  },
  {
   "cell_type": "code",
   "execution_count": null,
   "metadata": {},
   "outputs": [],
   "source": [
    "ROOT.TFile.SetCacheFileDir(\"../data/\")\n",
    "#f = ROOT.TFile.Open(\"https://rootinteractive.web.cern.ch/RootInteractive/data/PWGPP-527/dataMerged.root\",\"cacheread\") # For data\n",
    "f = ROOT.TFile.Open(\"https://rootinteractive.web.cern.ch/RootInteractive/data/PWGPP-527/mcMerged.root\",\"cacheread\") # For Monte-Carlo\n",
    "hisArray=ROOT.TObjArray()\n",
    "hisArray.Add(f.Get(\"hR_phi_Z_pT\"))\n",
    "hisArray.ls()\n"
   ]
  },
  {
   "cell_type": "code",
   "execution_count": null,
   "metadata": {},
   "outputs": [],
   "source": [
    "f.Get(\"hR_phi_Z_pT\").Print(\"All\")"
   ]
  },
  {
   "cell_type": "code",
   "execution_count": null,
   "metadata": {},
   "outputs": [],
   "source": [
    "selection=\"merge(0),merge(1),merge(2),merge(3)\"\n",
    "x=drawHisto(hisArray,selection,ncols=2);"
   ]
  }
 ],
 "metadata": {
  "kernelspec": {
   "display_name": "Python 3",
   "language": "python",
   "name": "python3"
  },
  "language_info": {
   "codemirror_mode": {
    "name": "ipython",
    "version": 3
   },
   "file_extension": ".py",
   "mimetype": "text/x-python",
   "name": "python",
   "nbconvert_exporter": "python",
   "pygments_lexer": "ipython3",
   "version": "3.6.7"
  }
 },
 "nbformat": 4,
 "nbformat_minor": 2
}
