{
 "cells": [
  {
   "cell_type": "markdown",
   "metadata": {},
   "source": [
    "## <h1>00. Introduction and Setup</h1>\n",
    "## Tutorial Overview "
   ]
  },
  {
   "cell_type": "markdown",
   "metadata": {},
   "source": [
    "### Working Examples:\n",
    "Real use case used for the RootInteractive tutorials. Cryptic names corresponds to the JIRA stories/task related\n",
    "1. #### ADQT-3:\n",
    "    - [TPC QA Demo](JIRA/ADQT-3/tpcQADemo.ipynb)\n",
    "    - [TPC QA extendedDemo with status bar](JIRA/ADQT-3/tpcQADemoWithStatus.ipynb)\n",
    "    * [[JIRA] (ADQT-3) Classification of TPC QA Run2 data based on ML techniques](https://alice.its.cern.ch/jira/browse/ADQT-3)\n",
    "2. #### ADQT-4:\n",
    "    - [Performance studies demo. Data access](JIRA/ADQT-4/performanceMapDemo.ipynb)\n",
    "    - [Performance studies demo. 2018/2015](JIRA/ADQT-4/performanceMapDemo.ipynb) \n",
    "    * [[JIRA] (ADQT-4) MC tuning on data using parametrized maps and ML techniques](https://alice.its.cern.ch/jira/browse/ADQT-4)\n",
    "3. #### ATO-465\n",
    "    - [dEdxCorrection](JIRA/ATO-465/dEdxCorrection.ipynb)\n",
    "4. #### PWGPP-485\n",
    "    - [dEdxParam](JIRA/PWGPP-485/dEdxParam.ipynb)\n",
    "    - [THnInteractive](JIRA/PWGPP-485/THnInteractive.ipynb)\n",
    "5. #### PWGPP-518\n",
    "    - [layoutPlay](JIRA/PWGPP-518/layoutPlay.ipynb)\n",
    "    - [PresentationLayouts](JIRA/PWGPP-518/PresentationLayouts.ipynb)\n",
    "6. #### PWGPP-527\n",
    "    - [Conversion map exploring](JIRA/PWGPP-527/conversion.ipynb)\n",
    "    - [THn Visualization for R $\\phi$ Z $p_T$](JIRA/PWGPP-527/THnVisualization.ipynb)   \n",
    "7. #### PWGPP-543\n",
    "    - [JavaScript example](JIRA/PWGPP-543/example-js.ipynb)\n",
    "\n",
    "\n",
    "### Machine learning part - not back compatible changes planned\n",
    "  \n",
    "- #### ATO-460: \n",
    "    - [analyseFit](JIRA/ATO-460/analyseFit.ipynb)\n",
    "    - [AutoencoderPID2](JIRA/ATO-460/AutoencoderPID2.ipynb)\n",
    "    - [AutoencoderPIDcontractive](JIRA/ATO-460/AutoencoderPIDcontractive.ipynb)\n",
    "    - [AutoencoderPIDdenoising](JIRA/ATO-460/AutoencoderPIDdenoising.ipynb)\n",
    "    - [AutoencoderPIDgausstransform](JIRA/ATO-460/AutoencoderPIDgausstransform.ipynb)\n",
    "    - [AutoencoderPIDsparse](JIRA/ATO-460/AutoencoderPIDsparse.ipynb)\n",
    "    - [AutoencoderPIDvae](JIRA/ATO-460/AutoencoderPIDvae.ipynb)\n",
    "    - [AutoencoderPIDvaenoise](JIRA/ATO-460/AutoencoderPIDvaenoise.ipynb)\n",
    "    - [testautoencoderclass](JIRA/ATO-460/testautoencoderclass.ipynb)\n",
    "   \n",
    "    \n",
    "    \n",
    "### not-working Examples:\n",
    "\n",
    "- #### ATO-460\n",
    "    - [AutoencoderPID](JIRA/ATO-460/AutoencoderPID.ipynb)\n",
    "    - [AutoencoderPID2comp](JIRA/ATO-460/AutoencoderPID2comp.ipynb)\n",
    "    - [FitdEdxTF](JIRA/ATO-460/FitdEdxTF.ipynb)\n",
    "    - [physdecoder2](JIRA/ATO-460/physdecoder2.ipynb)\n",
    "- #### ATO-465\n",
    "    - [dEdxCorrection](JIRA/ATO-465/dEdxCorrection.ipynb)\n",
    "    \n"
   ]
  },
  {
   "cell_type": "code",
   "execution_count": null,
   "metadata": {},
   "outputs": [],
   "source": []
  }
 ],
 "metadata": {
  "kernelspec": {
   "display_name": "Python 2",
   "language": "python",
   "name": "python2"
  },
  "language_info": {
   "codemirror_mode": {
    "name": "ipython",
    "version": 3
   },
   "file_extension": ".py",
   "mimetype": "text/x-python",
   "name": "python",
   "nbconvert_exporter": "python",
   "pygments_lexer": "ipython3",
   "version": "3.6.8"
  }
 },
 "nbformat": 4,
 "nbformat_minor": 2
}
